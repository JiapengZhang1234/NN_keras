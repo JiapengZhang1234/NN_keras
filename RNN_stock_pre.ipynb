{
 "cells": [
  {
   "cell_type": "code",
   "execution_count": 37,
   "metadata": {},
   "outputs": [],
   "source": [
    "import numpy as np\n",
    "import pandas as pd\n",
    "import pandas_datareader as pdr\n",
    "\n",
    "import keras\n",
    "from keras.models import Sequential\n",
    "from keras.layers import LSTM, Dense, Dropout\n",
    "\n",
    "from sklearn.preprocessing import MinMaxScaler\n",
    "\n",
    "import matplotlib.pyplot as plt\n",
    "import seaborn as sns\n",
    "\n",
    "import os\n",
    "from datetime import datetime"
   ]
  },
  {
   "cell_type": "markdown",
   "metadata": {},
   "source": [
    "### 载入数据"
   ]
  },
  {
   "cell_type": "code",
   "execution_count": 9,
   "metadata": {},
   "outputs": [],
   "source": [
    "amazon_data = pdr.get_data_yahoo('AMZN')"
   ]
  },
  {
   "cell_type": "code",
   "execution_count": 11,
   "metadata": {},
   "outputs": [
    {
     "data": {
      "text/plain": [
       "(1259, 6)"
      ]
     },
     "execution_count": 11,
     "metadata": {},
     "output_type": "execute_result"
    }
   ],
   "source": [
    "amazon_data.shape"
   ]
  },
  {
   "cell_type": "code",
   "execution_count": 12,
   "metadata": {},
   "outputs": [
    {
     "name": "stdout",
     "output_type": "stream",
     "text": [
      "<class 'pandas.core.frame.DataFrame'>\n",
      "DatetimeIndex: 1259 entries, 2015-08-10 to 2020-08-07\n",
      "Data columns (total 6 columns):\n",
      " #   Column     Non-Null Count  Dtype  \n",
      "---  ------     --------------  -----  \n",
      " 0   High       1259 non-null   float64\n",
      " 1   Low        1259 non-null   float64\n",
      " 2   Open       1259 non-null   float64\n",
      " 3   Close      1259 non-null   float64\n",
      " 4   Volume     1259 non-null   int64  \n",
      " 5   Adj Close  1259 non-null   float64\n",
      "dtypes: float64(5), int64(1)\n",
      "memory usage: 68.9 KB\n"
     ]
    }
   ],
   "source": [
    "amazon_data.info()"
   ]
  },
  {
   "cell_type": "code",
   "execution_count": 13,
   "metadata": {},
   "outputs": [
    {
     "data": {
      "text/html": [
       "<div>\n",
       "<style scoped>\n",
       "    .dataframe tbody tr th:only-of-type {\n",
       "        vertical-align: middle;\n",
       "    }\n",
       "\n",
       "    .dataframe tbody tr th {\n",
       "        vertical-align: top;\n",
       "    }\n",
       "\n",
       "    .dataframe thead th {\n",
       "        text-align: right;\n",
       "    }\n",
       "</style>\n",
       "<table border=\"1\" class=\"dataframe\">\n",
       "  <thead>\n",
       "    <tr style=\"text-align: right;\">\n",
       "      <th></th>\n",
       "      <th>High</th>\n",
       "      <th>Low</th>\n",
       "      <th>Open</th>\n",
       "      <th>Close</th>\n",
       "      <th>Volume</th>\n",
       "      <th>Adj Close</th>\n",
       "    </tr>\n",
       "    <tr>\n",
       "      <th>Date</th>\n",
       "      <th></th>\n",
       "      <th></th>\n",
       "      <th></th>\n",
       "      <th></th>\n",
       "      <th></th>\n",
       "      <th></th>\n",
       "    </tr>\n",
       "  </thead>\n",
       "  <tbody>\n",
       "    <tr>\n",
       "      <th>2015-08-10</th>\n",
       "      <td>532.280029</td>\n",
       "      <td>523.000000</td>\n",
       "      <td>528.520020</td>\n",
       "      <td>524.000000</td>\n",
       "      <td>2615900</td>\n",
       "      <td>524.000000</td>\n",
       "    </tr>\n",
       "    <tr>\n",
       "      <th>2015-08-11</th>\n",
       "      <td>528.979980</td>\n",
       "      <td>522.000000</td>\n",
       "      <td>523.650024</td>\n",
       "      <td>527.460022</td>\n",
       "      <td>2676600</td>\n",
       "      <td>527.460022</td>\n",
       "    </tr>\n",
       "    <tr>\n",
       "      <th>2015-08-12</th>\n",
       "      <td>527.500000</td>\n",
       "      <td>513.059998</td>\n",
       "      <td>523.750000</td>\n",
       "      <td>525.909973</td>\n",
       "      <td>3962300</td>\n",
       "      <td>525.909973</td>\n",
       "    </tr>\n",
       "    <tr>\n",
       "      <th>2015-08-13</th>\n",
       "      <td>534.659973</td>\n",
       "      <td>525.489990</td>\n",
       "      <td>527.369995</td>\n",
       "      <td>529.659973</td>\n",
       "      <td>2895200</td>\n",
       "      <td>529.659973</td>\n",
       "    </tr>\n",
       "    <tr>\n",
       "      <th>2015-08-14</th>\n",
       "      <td>534.109985</td>\n",
       "      <td>528.250000</td>\n",
       "      <td>528.250000</td>\n",
       "      <td>531.520020</td>\n",
       "      <td>1994800</td>\n",
       "      <td>531.520020</td>\n",
       "    </tr>\n",
       "  </tbody>\n",
       "</table>\n",
       "</div>"
      ],
      "text/plain": [
       "                  High         Low        Open       Close   Volume  \\\n",
       "Date                                                                  \n",
       "2015-08-10  532.280029  523.000000  528.520020  524.000000  2615900   \n",
       "2015-08-11  528.979980  522.000000  523.650024  527.460022  2676600   \n",
       "2015-08-12  527.500000  513.059998  523.750000  525.909973  3962300   \n",
       "2015-08-13  534.659973  525.489990  527.369995  529.659973  2895200   \n",
       "2015-08-14  534.109985  528.250000  528.250000  531.520020  1994800   \n",
       "\n",
       "             Adj Close  \n",
       "Date                    \n",
       "2015-08-10  524.000000  \n",
       "2015-08-11  527.460022  \n",
       "2015-08-12  525.909973  \n",
       "2015-08-13  529.659973  \n",
       "2015-08-14  531.520020  "
      ]
     },
     "execution_count": 13,
     "metadata": {},
     "output_type": "execute_result"
    }
   ],
   "source": [
    "amazon_data.head()"
   ]
  },
  {
   "cell_type": "markdown",
   "metadata": {},
   "source": [
    "### 数据预处理与特征提取"
   ]
  },
  {
   "cell_type": "code",
   "execution_count": 20,
   "metadata": {},
   "outputs": [],
   "source": [
    "df = amazon_data['Open'].values"
   ]
  },
  {
   "cell_type": "code",
   "execution_count": 21,
   "metadata": {},
   "outputs": [
    {
     "data": {
      "text/plain": [
       "(1259,)"
      ]
     },
     "execution_count": 21,
     "metadata": {},
     "output_type": "execute_result"
    }
   ],
   "source": [
    "df.shape"
   ]
  },
  {
   "cell_type": "code",
   "execution_count": 22,
   "metadata": {},
   "outputs": [],
   "source": [
    "df = df.reshape(-1,1)"
   ]
  },
  {
   "cell_type": "code",
   "execution_count": 23,
   "metadata": {},
   "outputs": [
    {
     "data": {
      "text/plain": [
       "(1259, 1)"
      ]
     },
     "execution_count": 23,
     "metadata": {},
     "output_type": "execute_result"
    }
   ],
   "source": [
    "df.shape"
   ]
  },
  {
   "cell_type": "code",
   "execution_count": 24,
   "metadata": {},
   "outputs": [
    {
     "data": {
      "text/plain": [
       "array([[ 528.52001953],\n",
       "       [ 523.65002441],\n",
       "       [ 523.75      ],\n",
       "       ...,\n",
       "       [3143.77001953],\n",
       "       [3194.36010742],\n",
       "       [3224.01000977]])"
      ]
     },
     "execution_count": 24,
     "metadata": {},
     "output_type": "execute_result"
    }
   ],
   "source": [
    "df"
   ]
  },
  {
   "cell_type": "code",
   "execution_count": 25,
   "metadata": {},
   "outputs": [
    {
     "data": {
      "image/png": "[encoded data removed]",
      "text/plain": [
       "<Figure size 432x288 with 1 Axes>"
      ]
     },
     "metadata": {
      "needs_background": "light"
     },
     "output_type": "display_data"
    }
   ],
   "source": [
    "plt.plot(df)\n",
    "plt.show()"
   ]
  },
  {
   "cell_type": "code",
   "execution_count": 33,
   "metadata": {},
   "outputs": [],
   "source": [
    "data_train = np.array(df[:int(df.shape[0]*0.8)])\n",
    "data_test = np.array(df[int(df.shape[0]*0.8)-50:])"
   ]
  },
  {
   "cell_type": "code",
   "execution_count": 35,
   "metadata": {},
   "outputs": [
    {
     "data": {
      "text/plain": [
       "(1007, 1)"
      ]
     },
     "execution_count": 35,
     "metadata": {},
     "output_type": "execute_result"
    }
   ],
   "source": [
    "data_train.shape"
   ]
  },
  {
   "cell_type": "code",
   "execution_count": 36,
   "metadata": {},
   "outputs": [
    {
     "data": {
      "text/plain": [
       "(302, 1)"
      ]
     },
     "execution_count": 36,
     "metadata": {},
     "output_type": "execute_result"
    }
   ],
   "source": [
    "data_test.shape"
   ]
  },
  {
   "cell_type": "code",
   "execution_count": 38,
   "metadata": {},
   "outputs": [],
   "source": [
    "def create_dataset(df):\n",
    "    x=[]\n",
    "    y=[]\n",
    "    for i in range(50, df.shape[0]):\n",
    "        x.append(df[i-50:i,0])\n",
    "        y.append(df[i,0])\n",
    "    x = np.array(x)\n",
    "    y = np.array(y)\n",
    "    return x, y\n",
    "x_train, y_train = create_dataset(data_train)\n",
    "x_test, y_test = create_dataset(data_test)"
   ]
  },
  {
   "cell_type": "code",
   "execution_count": 39,
   "metadata": {},
   "outputs": [
    {
     "name": "stdout",
     "output_type": "stream",
     "text": [
      "(957, 50)\n",
      "(957,)\n",
      "(252, 50)\n",
      "(252,)\n"
     ]
    }
   ],
   "source": [
    "print(x_train.shape)\n",
    "print(y_train.shape)\n",
    "print(x_test.shape)\n",
    "print(y_test.shape)"
   ]
  },
  {
   "cell_type": "code",
   "execution_count": 42,
   "metadata": {},
   "outputs": [],
   "source": [
    "x_train = np.reshape(x_train, (x_train.shape[0],x_train.shape[1],1))\n",
    "x_test = np.reshape(x_test, (x_test.shape[0],x_test.shape[1],1))"
   ]
  },
  {
   "cell_type": "code",
   "execution_count": 43,
   "metadata": {},
   "outputs": [
    {
     "name": "stdout",
     "output_type": "stream",
     "text": [
      "(957, 50, 1)\n"
     ]
    }
   ],
   "source": [
    "print(x_train.shape)"
   ]
  },
  {
   "cell_type": "markdown",
   "metadata": {},
   "source": [
    "### 建立模型"
   ]
  },
  {
   "cell_type": "code",
   "execution_count": 47,
   "metadata": {},
   "outputs": [],
   "source": [
    "model = Sequential()\n",
    "\n",
    "model.add(LSTM(units=96, return_sequences=True, input_shape=(x_train.shape[1],1)))\n",
    "model.add(Dropout(0.2))\n",
    "model.add(LSTM(units=96, return_sequences=True))\n",
    "model.add(Dropout(0.2))\n",
    "model.add(LSTM(units=96, return_sequences=True))\n",
    "model.add(Dropout(0.2))\n",
    "model.add(LSTM(units=96))\n",
    "model.add(Dropout(0.2))\n",
    "model.add(Dense(1))\n",
    "\n",
    "model.compile(loss='mean_squared_error',optimizer='adam')"
   ]
  },
  {
   "cell_type": "markdown",
   "metadata": {},
   "source": [
    "### 模型训练"
   ]
  },
  {
   "cell_type": "code",
   "execution_count": 48,
   "metadata": {},
   "outputs": [
    {
     "name": "stdout",
     "output_type": "stream",
     "text": [
      "Epoch 1/50\n",
      "957/957 [==============================] - 10s 11ms/step - loss: 1616629.6725\n",
      "Epoch 2/50\n",
      "957/957 [==============================] - 6s 6ms/step - loss: 1598922.0104\n",
      "Epoch 3/50\n",
      "957/957 [==============================] - 6s 6ms/step - loss: 1590747.6889\n",
      "Epoch 4/50\n",
      "957/957 [==============================] - 6s 6ms/step - loss: 1583324.9572\n",
      "Epoch 5/50\n",
      "957/957 [==============================] - 6s 6ms/step - loss: 1576144.1181A: 2s - loss:\n",
      "Epoch 6/50\n",
      "957/957 [==============================] - 6s 6ms/step - loss: 1569019.7543\n",
      "Epoch 7/50\n",
      "957/957 [==============================] - 6s 6ms/step - loss: 1561966.9918\n",
      "Epoch 8/50\n",
      "957/957 [==============================] - 6s 6ms/step - loss: 1554988.7612\n",
      "Epoch 9/50\n",
      "957/957 [==============================] - 6s 6ms/step - loss: 1548064.7559\n",
      "Epoch 10/50\n",
      "957/957 [==============================] - 6s 6ms/step - loss: 1541660.2190\n",
      "Epoch 11/50\n",
      "957/957 [==============================] - 6s 6ms/step - loss: 1534665.4974\n",
      "Epoch 12/50\n",
      "957/957 [==============================] - 6s 6ms/step - loss: 1528272.5824\n",
      "Epoch 13/50\n",
      "957/957 [==============================] - 6s 6ms/step - loss: 1521302.1370\n",
      "Epoch 14/50\n",
      "957/957 [==============================] - 6s 6ms/step - loss: 1514951.4632\n",
      "Epoch 15/50\n",
      "957/957 [==============================] - 6s 6ms/step - loss: 1508235.8676\n",
      "Epoch 16/50\n",
      "957/957 [==============================] - 6s 6ms/step - loss: 1501852.7855\n",
      "Epoch 17/50\n",
      "957/957 [==============================] - 6s 6ms/step - loss: 1495515.2864\n",
      "Epoch 18/50\n",
      "957/957 [==============================] - 6s 6ms/step - loss: 1488664.2975\n",
      "Epoch 19/50\n",
      "957/957 [==============================] - 6s 7ms/step - loss: 1482423.6496\n",
      "Epoch 20/50\n",
      "957/957 [==============================] - 6s 6ms/step - loss: 1475913.5010\n",
      "Epoch 21/50\n",
      "957/957 [==============================] - 6s 6ms/step - loss: 1469428.9673\n",
      "Epoch 22/50\n",
      "957/957 [==============================] - 6s 6ms/step - loss: 1463276.6507\n",
      "Epoch 23/50\n",
      "957/957 [==============================] - 6s 6ms/step - loss: 1457202.7017\n",
      "Epoch 24/50\n",
      "957/957 [==============================] - 6s 6ms/step - loss: 1450605.5943\n",
      "Epoch 25/50\n",
      "957/957 [==============================] - 6s 6ms/step - loss: 1443945.5887\n",
      "Epoch 26/50\n",
      "957/957 [==============================] - 6s 6ms/step - loss: 1437940.6814\n",
      "Epoch 27/50\n",
      "957/957 [==============================] - 6s 6ms/step - loss: 1432202.8250\n",
      "Epoch 28/50\n",
      "957/957 [==============================] - 6s 6ms/step - loss: 1425405.7529\n",
      "Epoch 29/50\n",
      "957/957 [==============================] - 6s 6ms/step - loss: 1418984.5880\n",
      "Epoch 30/50\n",
      "957/957 [==============================] - 6s 6ms/step - loss: 1413272.4689\n",
      "Epoch 31/50\n",
      "957/957 [==============================] - 6s 6ms/step - loss: 1407538.8333\n",
      "Epoch 32/50\n",
      "957/957 [==============================] - 6s 6ms/step - loss: 1400559.7126\n",
      "Epoch 33/50\n",
      "957/957 [==============================] - 6s 6ms/step - loss: 1394633.9211\n",
      "Epoch 34/50\n",
      "957/957 [==============================] - 6s 6ms/step - loss: 1389270.5269\n",
      "Epoch 35/50\n",
      "957/957 [==============================] - 6s 6ms/step - loss: 1382731.7316\n",
      "Epoch 36/50\n",
      "957/957 [==============================] - 6s 6ms/step - loss: 1376413.4001\n",
      "Epoch 37/50\n",
      "957/957 [==============================] - 6s 6ms/step - loss: 1371075.9642\n",
      "Epoch 38/50\n",
      "957/957 [==============================] - 6s 6ms/step - loss: 1365444.7883\n",
      "Epoch 39/50\n",
      "957/957 [==============================] - 6s 6ms/step - loss: 1359433.1456\n",
      "Epoch 40/50\n",
      "957/957 [==============================] - 6s 6ms/step - loss: 1353210.8805\n",
      "Epoch 41/50\n",
      "957/957 [==============================] - 6s 7ms/step - loss: 1346587.3699\n",
      "Epoch 42/50\n",
      "957/957 [==============================] - 7s 7ms/step - loss: 1340786.8042\n",
      "Epoch 43/50\n",
      "957/957 [==============================] - 6s 6ms/step - loss: 1335667.8706\n",
      "Epoch 44/50\n",
      "957/957 [==============================] - 6s 6ms/step - loss: 1329192.0273\n",
      "Epoch 45/50\n",
      "957/957 [==============================] - 6s 6ms/step - loss: 1324245.4509\n",
      "Epoch 46/50\n",
      "957/957 [==============================] - 6s 6ms/step - loss: 1318396.0135\n",
      "Epoch 47/50\n",
      "957/957 [==============================] - 6s 6ms/step - loss: 1312016.2527\n",
      "Epoch 48/50\n",
      "957/957 [==============================] - 6s 6ms/step - loss: 1306262.2460\n",
      "Epoch 49/50\n",
      "957/957 [==============================] - 6s 6ms/step - loss: 1300958.8376\n",
      "Epoch 50/50\n",
      "957/957 [==============================] - 6s 6ms/step - loss: 1294546.4629\n"
     ]
    },
    {
     "data": {
      "text/plain": [
       "<keras.callbacks.callbacks.History at 0x11782588>"
      ]
     },
     "execution_count": 48,
     "metadata": {},
     "output_type": "execute_result"
    }
   ],
   "source": [
    "model.fit(x_train,y_train,batch_size=32,epochs=50)"
   ]
  },
  {
   "cell_type": "markdown",
   "metadata": {},
   "source": [
    "### 模型评估"
   ]
  },
  {
   "cell_type": "code",
   "execution_count": 49,
   "metadata": {},
   "outputs": [],
   "source": [
    "pre = model.predict(x_test)"
   ]
  },
  {
   "cell_type": "code",
   "execution_count": 50,
   "metadata": {},
   "outputs": [
    {
     "data": {
      "image/png": "[encoded data removed]",
      "text/plain": [
       "<Figure size 432x288 with 1 Axes>"
      ]
     },
     "metadata": {
      "needs_background": "light"
     },
     "output_type": "display_data"
    }
   ],
   "source": [
    "plt.plot(pre)\n",
    "plt.plot(y_test)\n",
    "plt.show()"
   ]
  },
  {
   "cell_type": "code",
   "execution_count": null,
   "metadata": {},
   "outputs": [],
   "source": []
  }
 ],
 "metadata": {
  "kernelspec": {
   "display_name": "Python 3",
   "language": "python",
   "name": "python3"
  },
  "language_info": {
   "codemirror_mode": {
    "name": "ipython",
    "version": 3
   },
   "file_extension": ".py",
   "mimetype": "text/x-python",
   "name": "python",
   "nbconvert_exporter": "python",
   "pygments_lexer": "ipython3",
   "version": "3.6.10"
  }
 },
 "nbformat": 4,
 "nbformat_minor": 4
}
