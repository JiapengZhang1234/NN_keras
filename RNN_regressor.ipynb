{
 "cells": [
  {
   "cell_type": "code",
   "execution_count": null,
   "metadata": {},
   "outputs": [],
   "source": [
    "import numpy as np\n",
    "np.random.seed(1337)\n",
    "import matplotlib.pyplot as plt\n",
    "from keras.models import Sequential\n",
    "from keras.layers import Dense,LSTM,TimeDistributed\n",
    "from keras.optimizers import Adam"
   ]
  },
  {
   "cell_type": "code",
   "execution_count": null,
   "metadata": {},
   "outputs": [],
   "source": [
    "BATCH_START = 0\n",
    "TIME_STEPS = 20\n",
    "BATCH_SIZE = 50\n",
    "INPUT_SIZE = 1\n",
    "OUTPUT_SIZE = 1\n",
    "CELL_SIZE = 20\n",
    "LR = 0.006"
   ]
  },
  {
   "cell_type": "code",
   "execution_count": 3,
   "metadata": {},
   "outputs": [],
   "source": [
    "def get_batch():\n",
    "    global BATCH_START, TIME_STEPS\n",
    "    # xs shape (1000,) -- (50,20)\n",
    "    xs = np.arange(BATCH_START, BATCH_START+TIME_STEPS*BATCH_SIZE).reshape((BATCH_SIZE, TIME_STEPS)) / (10*np.pi)\n",
    "    seq = np.sin(xs)\n",
    "    res = np.cos(xs)\n",
    "    BATCH_START += TIME_STEPS\n",
    "    # plt.plot(xs[0, :], res[0, :], 'r', xs[0, :], seq[0, :], 'b--')\n",
    "    # plt.show()\n",
    "    return [seq[:, :, np.newaxis], res[:, :, np.newaxis], xs]"
   ]
  },
  {
   "cell_type": "code",
   "execution_count": 4,
   "metadata": {},
   "outputs": [],
   "source": [
    "#建立序列模型\n",
    "model = Sequential()\n",
    "\n",
    "#建立LSTM循环层\n",
    "#return_sequential代表是否每一个循环都输出值\n",
    "#stateful代表batch与batch之间是否有关系，我们这里不设置\n",
    "model.add(\n",
    "    LSTM(units=20,input_shape=(20,1),return_sequences=True)\n",
    ")\n",
    "\n",
    "#添加输出层\n",
    "#TimeDistributed可以使循环层中的每一个序列的输出值都经过一个Dense进行输出\n",
    "model.add(TimeDistributed(Dense(1)))\n",
    "\n",
    "#设置损失函数，优化方法\n",
    "adam = Adam(LR)\n",
    "model.compile(\n",
    "    optimizer = adam,\n",
    "    loss = 'mse'\n",
    ")"
   ]
  },
  {
   "cell_type": "code",
   "execution_count": 5,
   "metadata": {},
   "outputs": [
    {
     "name": "stdout",
     "output_type": "stream",
     "text": [
      "(50, 20, 1)\n",
      "(50, 20, 1)\n",
      "(50, 20)\n"
     ]
    }
   ],
   "source": [
    "#数据准备\n",
    "X_batch, Y_batch, xs = get_batch()\n",
    "print(X_batch.shape)\n",
    "print(Y_batch.shape)\n",
    "print(xs.shape)"
   ]
  },
  {
   "cell_type": "code",
   "execution_count": 6,
   "metadata": {},
   "outputs": [
    {
     "data": {
      "text/plain": [
       "0.5107169"
      ]
     },
     "execution_count": 6,
     "metadata": {},
     "output_type": "execute_result"
    }
   ],
   "source": [
    "#模型训练 方式1\n",
    "cost = model.train_on_batch(X_batch, Y_batch)\n",
    "cost"
   ]
  },
  {
   "cell_type": "code",
   "execution_count": 7,
   "metadata": {},
   "outputs": [
    {
     "name": "stdout",
     "output_type": "stream",
     "text": [
      "Epoch 1/10\n",
      "50/50 [==============================] - 0s 2ms/step - loss: 0.5042\n",
      "Epoch 2/10\n",
      "50/50 [==============================] - 0s 2ms/step - loss: 0.4974\n",
      "Epoch 3/10\n",
      "50/50 [==============================] - 0s 2ms/step - loss: 0.4844\n",
      "Epoch 4/10\n",
      "50/50 [==============================] - 0s 2ms/step - loss: 0.4830\n",
      "Epoch 5/10\n",
      "50/50 [==============================] - 0s 2ms/step - loss: 0.4760\n",
      "Epoch 6/10\n",
      "50/50 [==============================] - 0s 3ms/step - loss: 0.4625\n",
      "Epoch 7/10\n",
      "50/50 [==============================] - 0s 2ms/step - loss: 0.4545\n",
      "Epoch 8/10\n",
      "50/50 [==============================] - 0s 2ms/step - loss: 0.4496\n",
      "Epoch 9/10\n",
      "50/50 [==============================] - 0s 1ms/step - loss: 0.4488\n",
      "Epoch 10/10\n",
      "50/50 [==============================] - 0s 1ms/step - loss: 0.4460\n"
     ]
    },
    {
     "data": {
      "text/plain": [
       "<keras.callbacks.callbacks.History at 0x103e65f8>"
      ]
     },
     "execution_count": 7,
     "metadata": {},
     "output_type": "execute_result"
    }
   ],
   "source": [
    "#模型训练 方式2\n",
    "model.fit(X_batch,Y_batch,batch_size=20,epochs=10)"
   ]
  },
  {
   "cell_type": "code",
   "execution_count": 8,
   "metadata": {},
   "outputs": [
    {
     "name": "stdout",
     "output_type": "stream",
     "text": [
      "(1, 20, 1)\n"
     ]
    }
   ],
   "source": [
    "#基于训练好的模型做出预测\n",
    "X=X_batch[0]\n",
    "pred = model.predict(X[np.newaxis,:, :])\n",
    "print(pred.shape)"
   ]
  },
  {
   "cell_type": "code",
   "execution_count": null,
   "metadata": {},
   "outputs": [],
   "source": []
  },
  {
   "cell_type": "code",
   "execution_count": null,
   "metadata": {},
   "outputs": [],
   "source": []
  },
  {
   "cell_type": "code",
   "execution_count": null,
   "metadata": {},
   "outputs": [],
   "source": []
  }
 ],
 "metadata": {
  "kernelspec": {
   "display_name": "Python 3",
   "language": "python",
   "name": "python3"
  },
  "language_info": {
   "codemirror_mode": {
    "name": "ipython",
    "version": 3
   },
   "file_extension": ".py",
   "mimetype": "text/x-python",
   "name": "python",
   "nbconvert_exporter": "python",
   "pygments_lexer": "ipython3",
   "version": "3.6.10"
  }
 },
 "nbformat": 4,
 "nbformat_minor": 4
}
