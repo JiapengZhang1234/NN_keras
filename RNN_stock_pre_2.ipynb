{
 "cells": [
  {
   "cell_type": "code",
   "execution_count": 1,
   "metadata": {},
   "outputs": [
    {
     "name": "stderr",
     "output_type": "stream",
     "text": [
      "D:\\conda\\envs\\py36\\lib\\site-packages\\pandas_datareader\\compat\\__init__.py:7: FutureWarning: pandas.util.testing is deprecated. Use the functions in the public API at pandas.testing instead.\n",
      "  from pandas.util.testing import assert_frame_equal\n",
      "Using TensorFlow backend.\n"
     ]
    }
   ],
   "source": [
    "import numpy as np\n",
    "import pandas as pd\n",
    "import pandas_datareader as pdr\n",
    "\n",
    "import keras\n",
    "from keras.models import Sequential\n",
    "from keras.layers import LSTM, Dense, Dropout\n",
    "\n",
    "from sklearn.preprocessing import MinMaxScaler\n",
    "\n",
    "import matplotlib.pyplot as plt\n",
    "import seaborn as sns\n",
    "\n",
    "import os\n",
    "from datetime import datetime"
   ]
  },
  {
   "cell_type": "markdown",
   "metadata": {},
   "source": [
    "### 载入数据"
   ]
  },
  {
   "cell_type": "code",
   "execution_count": 2,
   "metadata": {},
   "outputs": [
    {
     "data": {
      "text/html": [
       "<div>\n",
       "<style scoped>\n",
       "    .dataframe tbody tr th:only-of-type {\n",
       "        vertical-align: middle;\n",
       "    }\n",
       "\n",
       "    .dataframe tbody tr th {\n",
       "        vertical-align: top;\n",
       "    }\n",
       "\n",
       "    .dataframe thead th {\n",
       "        text-align: right;\n",
       "    }\n",
       "</style>\n",
       "<table border=\"1\" class=\"dataframe\">\n",
       "  <thead>\n",
       "    <tr style=\"text-align: right;\">\n",
       "      <th></th>\n",
       "      <th>High</th>\n",
       "      <th>Low</th>\n",
       "      <th>Open</th>\n",
       "      <th>Close</th>\n",
       "      <th>Volume</th>\n",
       "      <th>Adj Close</th>\n",
       "    </tr>\n",
       "    <tr>\n",
       "      <th>Date</th>\n",
       "      <th></th>\n",
       "      <th></th>\n",
       "      <th></th>\n",
       "      <th></th>\n",
       "      <th></th>\n",
       "      <th></th>\n",
       "    </tr>\n",
       "  </thead>\n",
       "  <tbody>\n",
       "    <tr>\n",
       "      <th>2015-08-10</th>\n",
       "      <td>532.280029</td>\n",
       "      <td>523.000000</td>\n",
       "      <td>528.520020</td>\n",
       "      <td>524.000000</td>\n",
       "      <td>2615900</td>\n",
       "      <td>524.000000</td>\n",
       "    </tr>\n",
       "    <tr>\n",
       "      <th>2015-08-11</th>\n",
       "      <td>528.979980</td>\n",
       "      <td>522.000000</td>\n",
       "      <td>523.650024</td>\n",
       "      <td>527.460022</td>\n",
       "      <td>2676600</td>\n",
       "      <td>527.460022</td>\n",
       "    </tr>\n",
       "    <tr>\n",
       "      <th>2015-08-12</th>\n",
       "      <td>527.500000</td>\n",
       "      <td>513.059998</td>\n",
       "      <td>523.750000</td>\n",
       "      <td>525.909973</td>\n",
       "      <td>3962300</td>\n",
       "      <td>525.909973</td>\n",
       "    </tr>\n",
       "    <tr>\n",
       "      <th>2015-08-13</th>\n",
       "      <td>534.659973</td>\n",
       "      <td>525.489990</td>\n",
       "      <td>527.369995</td>\n",
       "      <td>529.659973</td>\n",
       "      <td>2895200</td>\n",
       "      <td>529.659973</td>\n",
       "    </tr>\n",
       "    <tr>\n",
       "      <th>2015-08-14</th>\n",
       "      <td>534.109985</td>\n",
       "      <td>528.250000</td>\n",
       "      <td>528.250000</td>\n",
       "      <td>531.520020</td>\n",
       "      <td>1994800</td>\n",
       "      <td>531.520020</td>\n",
       "    </tr>\n",
       "  </tbody>\n",
       "</table>\n",
       "</div>"
      ],
      "text/plain": [
       "                  High         Low        Open       Close   Volume  \\\n",
       "Date                                                                  \n",
       "2015-08-10  532.280029  523.000000  528.520020  524.000000  2615900   \n",
       "2015-08-11  528.979980  522.000000  523.650024  527.460022  2676600   \n",
       "2015-08-12  527.500000  513.059998  523.750000  525.909973  3962300   \n",
       "2015-08-13  534.659973  525.489990  527.369995  529.659973  2895200   \n",
       "2015-08-14  534.109985  528.250000  528.250000  531.520020  1994800   \n",
       "\n",
       "             Adj Close  \n",
       "Date                    \n",
       "2015-08-10  524.000000  \n",
       "2015-08-11  527.460022  \n",
       "2015-08-12  525.909973  \n",
       "2015-08-13  529.659973  \n",
       "2015-08-14  531.520020  "
      ]
     },
     "execution_count": 2,
     "metadata": {},
     "output_type": "execute_result"
    }
   ],
   "source": [
    "amazon_data = pdr.get_data_yahoo('AMZN')\n",
    "amazon_data.head()"
   ]
  },
  {
   "cell_type": "markdown",
   "metadata": {},
   "source": [
    "### 数据预处理与特征工程"
   ]
  },
  {
   "cell_type": "code",
   "execution_count": 7,
   "metadata": {},
   "outputs": [
    {
     "data": {
      "text/plain": [
       "(1259, 1)"
      ]
     },
     "execution_count": 7,
     "metadata": {},
     "output_type": "execute_result"
    }
   ],
   "source": [
    "df = amazon_data['Open'].values\n",
    "df = df.reshape(-1,1)\n",
    "df.shape"
   ]
  },
  {
   "cell_type": "code",
   "execution_count": 8,
   "metadata": {},
   "outputs": [
    {
     "data": {
      "image/png": "[encoded data removed]",
      "text/plain": [
       "<Figure size 432x288 with 1 Axes>"
      ]
     },
     "metadata": {
      "needs_background": "light"
     },
     "output_type": "display_data"
    }
   ],
   "source": [
    "plt.plot(df)\n",
    "plt.show()"
   ]
  },
  {
   "cell_type": "code",
   "execution_count": 9,
   "metadata": {},
   "outputs": [
    {
     "name": "stdout",
     "output_type": "stream",
     "text": [
      "(1007, 1)\n",
      "(302, 1)\n"
     ]
    }
   ],
   "source": [
    "#提取用于训练数据以及测试数据\n",
    "data_train = np.array(df[:int(df.shape[0]*0.8)])\n",
    "data_test = np.array(df[int(df.shape[0]*0.8)-50:])\n",
    "print(data_train.shape)\n",
    "print(data_test.shape)"
   ]
  },
  {
   "cell_type": "code",
   "execution_count": 11,
   "metadata": {},
   "outputs": [],
   "source": [
    "#特征的标准化\n",
    "scaler = MinMaxScaler(feature_range=(0,1))\n",
    "data_train = scaler.fit_transform(data_train)\n",
    "data_test = scaler.fit_transform(data_test)"
   ]
  },
  {
   "cell_type": "code",
   "execution_count": 12,
   "metadata": {},
   "outputs": [
    {
     "name": "stdout",
     "output_type": "stream",
     "text": [
      "(957, 50)\n",
      "(957,)\n",
      "(252, 50)\n",
      "(252,)\n"
     ]
    }
   ],
   "source": [
    "#将训练集与测试集中的特征与标签提取出来\n",
    "def create_dataset(df):\n",
    "    x=[]\n",
    "    y=[]\n",
    "    for i in range(50, df.shape[0]):\n",
    "        x.append(df[i-50:i,0])\n",
    "        y.append(df[i,0])\n",
    "    x = np.array(x)\n",
    "    y = np.array(y)\n",
    "    return x, y\n",
    "x_train, y_train = create_dataset(data_train)\n",
    "x_test, y_test = create_dataset(data_test)\n",
    "\n",
    "print(x_train.shape)\n",
    "print(y_train.shape)\n",
    "print(x_test.shape)\n",
    "print(y_test.shape)"
   ]
  },
  {
   "cell_type": "code",
   "execution_count": 13,
   "metadata": {},
   "outputs": [
    {
     "name": "stdout",
     "output_type": "stream",
     "text": [
      "(957, 50, 1)\n",
      "(252, 50, 1)\n"
     ]
    }
   ],
   "source": [
    "#改变数据的形状,便于序列模型的训练\n",
    "#将包含50个数据的数组，转化为50个数组，每个数组只包含一个数。\n",
    "x_train = np.reshape(x_train, (x_train.shape[0],x_train.shape[1],1))\n",
    "x_test = np.reshape(x_test, (x_test.shape[0],x_test.shape[1],1))\n",
    "print(x_train.shape)\n",
    "print(x_test.shape)"
   ]
  },
  {
   "cell_type": "markdown",
   "metadata": {},
   "source": [
    "### 建立模型"
   ]
  },
  {
   "cell_type": "code",
   "execution_count": 14,
   "metadata": {},
   "outputs": [],
   "source": [
    "model = Sequential()\n",
    "\n",
    "model.add(LSTM(units=96, return_sequences=True, input_shape=(x_train.shape[1],1)))\n",
    "model.add(Dropout(0.2))\n",
    "model.add(LSTM(units=96, return_sequences=True))\n",
    "model.add(Dropout(0.2))\n",
    "model.add(LSTM(units=96, return_sequences=True))\n",
    "model.add(Dropout(0.2))\n",
    "model.add(LSTM(units=96))\n",
    "model.add(Dropout(0.2))\n",
    "model.add(Dense(1))\n",
    "\n",
    "model.compile(loss='mean_squared_error',optimizer='adam')"
   ]
  },
  {
   "cell_type": "markdown",
   "metadata": {},
   "source": [
    "### 模型训练"
   ]
  },
  {
   "cell_type": "code",
   "execution_count": 15,
   "metadata": {},
   "outputs": [
    {
     "name": "stdout",
     "output_type": "stream",
     "text": [
      "Epoch 1/50\n",
      "957/957 [==============================] - 11s 12ms/step - loss: 0.0364\n",
      "Epoch 2/50\n",
      "957/957 [==============================] - 7s 7ms/step - loss: 0.0051\n",
      "Epoch 3/50\n",
      "957/957 [==============================] - 7s 7ms/step - loss: 0.0041\n",
      "Epoch 4/50\n",
      "957/957 [==============================] - 8s 8ms/step - loss: 0.0042\n",
      "Epoch 5/50\n",
      "957/957 [==============================] - 7s 7ms/step - loss: 0.0038\n",
      "Epoch 6/50\n",
      "957/957 [==============================] - 6s 7ms/step - loss: 0.0040\n",
      "Epoch 7/50\n",
      "957/957 [==============================] - 6s 7ms/step - loss: 0.0041\n",
      "Epoch 8/50\n",
      "957/957 [==============================] - 7s 7ms/step - loss: 0.0034\n",
      "Epoch 9/50\n",
      "957/957 [==============================] - 7s 7ms/step - loss: 0.0035\n",
      "Epoch 10/50\n",
      "957/957 [==============================] - 6s 6ms/step - loss: 0.0030\n",
      "Epoch 11/50\n",
      "957/957 [==============================] - 6s 7ms/step - loss: 0.0030\n",
      "Epoch 12/50\n",
      "957/957 [==============================] - 6s 6ms/step - loss: 0.0034\n",
      "Epoch 13/50\n",
      "957/957 [==============================] - 7s 7ms/step - loss: 0.0052\n",
      "Epoch 14/50\n",
      "957/957 [==============================] - 7s 8ms/step - loss: 0.0035\n",
      "Epoch 15/50\n",
      "957/957 [==============================] - 7s 7ms/step - loss: 0.0039\n",
      "Epoch 16/50\n",
      "957/957 [==============================] - 7s 7ms/step - loss: 0.0028\n",
      "Epoch 17/50\n",
      "957/957 [==============================] - 10s 10ms/step - loss: 0.0027\n",
      "Epoch 18/50\n",
      "957/957 [==============================] - 9s 10ms/step - loss: 0.0027\n",
      "Epoch 19/50\n",
      "957/957 [==============================] - 10s 11ms/step - loss: 0.0028\n",
      "Epoch 20/50\n",
      "957/957 [==============================] - 7s 7ms/step - loss: 0.0026\n",
      "Epoch 21/50\n",
      "957/957 [==============================] - 6s 7ms/step - loss: 0.0031\n",
      "Epoch 22/50\n",
      "957/957 [==============================] - 6s 7ms/step - loss: 0.0032\n",
      "Epoch 23/50\n",
      "957/957 [==============================] - 6s 7ms/step - loss: 0.0038\n",
      "Epoch 24/50\n",
      "957/957 [==============================] - 7s 7ms/step - loss: 0.0028\n",
      "Epoch 25/50\n",
      "957/957 [==============================] - 6s 6ms/step - loss: 0.0024\n",
      "Epoch 26/50\n",
      "957/957 [==============================] - 6s 6ms/step - loss: 0.0026\n",
      "Epoch 27/50\n",
      "957/957 [==============================] - 6s 6ms/step - loss: 0.0024\n",
      "Epoch 28/50\n",
      "957/957 [==============================] - 6s 6ms/step - loss: 0.0022\n",
      "Epoch 29/50\n",
      "957/957 [==============================] - 6s 6ms/step - loss: 0.0021\n",
      "Epoch 30/50\n",
      "957/957 [==============================] - 6s 6ms/step - loss: 0.0028\n",
      "Epoch 31/50\n",
      "957/957 [==============================] - 6s 6ms/step - loss: 0.0022\n",
      "Epoch 32/50\n",
      "957/957 [==============================] - 6s 7ms/step - loss: 0.0025\n",
      "Epoch 33/50\n",
      "957/957 [==============================] - 7s 7ms/step - loss: 0.0023\n",
      "Epoch 34/50\n",
      "957/957 [==============================] - 6s 7ms/step - loss: 0.0022\n",
      "Epoch 35/50\n",
      "957/957 [==============================] - 6s 6ms/step - loss: 0.0020\n",
      "Epoch 36/50\n",
      "957/957 [==============================] - 6s 6ms/step - loss: 0.0025\n",
      "Epoch 37/50\n",
      "957/957 [==============================] - 6s 6ms/step - loss: 0.0020\n",
      "Epoch 38/50\n",
      "957/957 [==============================] - 6s 6ms/step - loss: 0.0022\n",
      "Epoch 39/50\n",
      "957/957 [==============================] - 6s 7ms/step - loss: 0.0021\n",
      "Epoch 40/50\n",
      "957/957 [==============================] - 6s 7ms/step - loss: 0.0025\n",
      "Epoch 41/50\n",
      "957/957 [==============================] - 6s 7ms/step - loss: 0.0023\n",
      "Epoch 42/50\n",
      "957/957 [==============================] - 6s 6ms/step - loss: 0.0028\n",
      "Epoch 43/50\n",
      "957/957 [==============================] - 7s 7ms/step - loss: 0.0021\n",
      "Epoch 44/50\n",
      "957/957 [==============================] - 8s 8ms/step - loss: 0.0025\n",
      "Epoch 45/50\n",
      "957/957 [==============================] - 6s 7ms/step - loss: 0.0018\n",
      "Epoch 46/50\n",
      "957/957 [==============================] - 6s 6ms/step - loss: 0.0020\n",
      "Epoch 47/50\n",
      "957/957 [==============================] - 6s 6ms/step - loss: 0.0027\n",
      "Epoch 48/50\n",
      "957/957 [==============================] - 6s 6ms/step - loss: 0.0022\n",
      "Epoch 49/50\n",
      "957/957 [==============================] - 6s 7ms/step - loss: 0.0020\n",
      "Epoch 50/50\n",
      "957/957 [==============================] - 6s 6ms/step - loss: 0.0018\n"
     ]
    },
    {
     "data": {
      "text/plain": [
       "<keras.callbacks.callbacks.History at 0x114e6e80>"
      ]
     },
     "execution_count": 15,
     "metadata": {},
     "output_type": "execute_result"
    }
   ],
   "source": [
    "model.fit(x_train,y_train,batch_size=32,epochs=50)"
   ]
  },
  {
   "cell_type": "markdown",
   "metadata": {},
   "source": [
    "### 模型评估"
   ]
  },
  {
   "cell_type": "code",
   "execution_count": 19,
   "metadata": {},
   "outputs": [],
   "source": [
    "pre = model.predict(x_test)\n",
    "pre = scaler.inverse_transform(pre)\n",
    "y_test = scaler.inverse_transform(y_test.reshape(-1,1))"
   ]
  },
  {
   "cell_type": "code",
   "execution_count": 24,
   "metadata": {},
   "outputs": [
    {
     "data": {
      "image/png": "[encoded data removed]",
      "text/plain": [
       "<Figure size 432x288 with 1 Axes>"
      ]
     },
     "metadata": {
      "needs_background": "light"
     },
     "output_type": "display_data"
    }
   ],
   "source": [
    "plt.plot(pre,'b')\n",
    "plt.plot(y_test,'r')\n",
    "plt.show()"
   ]
  },
  {
   "cell_type": "code",
   "execution_count": null,
   "metadata": {},
   "outputs": [],
   "source": []
  }
 ],
 "metadata": {
  "kernelspec": {
   "display_name": "Python 3",
   "language": "python",
   "name": "python3"
  },
  "language_info": {
   "codemirror_mode": {
    "name": "ipython",
    "version": 3
   },
   "file_extension": ".py",
   "mimetype": "text/x-python",
   "name": "python",
   "nbconvert_exporter": "python",
   "pygments_lexer": "ipython3",
   "version": "3.6.10"
  }
 },
 "nbformat": 4,
 "nbformat_minor": 4
}
